{
 "cells": [
  {
   "cell_type": "markdown",
   "id": "8a16d785-42dc-455b-812b-538633a5ba6a",
   "metadata": {},
   "source": [
    "# Forecasting Level of Diabetes in Patients in One Year"
   ]
  },
  {
   "cell_type": "markdown",
   "id": "0a981f93-18d0-42b4-bca1-4bc86d3a14c3",
   "metadata": {},
   "source": []
  },
  {
   "cell_type": "markdown",
   "id": "b3083af0-9428-45c2-899d-672bbb028d8b",
   "metadata": {},
   "source": []
  },
  {
   "cell_type": "markdown",
   "id": "ba47ce46-af74-4e3d-8561-97c803eecbb4",
   "metadata": {},
   "source": []
  },
  {
   "cell_type": "markdown",
   "id": "9624945f-aff3-42d1-ab9e-5949118296a0",
   "metadata": {},
   "source": []
  },
  {
   "cell_type": "markdown",
   "id": "bdaea747-274f-4e11-be0b-caceeed0d96d",
   "metadata": {},
   "source": []
  },
  {
   "cell_type": "markdown",
   "id": "5858957a-ecbb-4a4b-ad92-c6651d757ea3",
   "metadata": {},
   "source": []
  },
  {
   "cell_type": "markdown",
   "id": "5641a89d-d6fe-478e-ae2b-4f305e0e2348",
   "metadata": {},
   "source": []
  },
  {
   "cell_type": "markdown",
   "id": "74ae109c-f300-4a2e-a3ab-1c77b2208619",
   "metadata": {},
   "source": []
  },
  {
   "cell_type": "markdown",
   "id": "af450755-c885-46d2-9a6d-432930a908a5",
   "metadata": {},
   "source": []
  },
  {
   "cell_type": "markdown",
   "id": "5630f610-0026-44bb-8490-acd28c56a3d3",
   "metadata": {},
   "source": []
  },
  {
   "cell_type": "markdown",
   "id": "a9213fb0-cae8-41a3-bc0f-a547135938e3",
   "metadata": {},
   "source": []
  },
  {
   "cell_type": "markdown",
   "id": "9bc049dd-03be-4b21-8bb8-b0077d3f09a7",
   "metadata": {},
   "source": []
  }
 ],
 "metadata": {
  "kernelspec": {
   "display_name": "Python 3 (ipykernel)",
   "language": "python",
   "name": "python3"
  },
  "language_info": {
   "codemirror_mode": {
    "name": "ipython",
    "version": 3
   },
   "file_extension": ".py",
   "mimetype": "text/x-python",
   "name": "python",
   "nbconvert_exporter": "python",
   "pygments_lexer": "ipython3",
   "version": "3.11.5"
  }
 },
 "nbformat": 4,
 "nbformat_minor": 5
}
